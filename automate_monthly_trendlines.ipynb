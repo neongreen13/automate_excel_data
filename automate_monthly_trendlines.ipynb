{
 "cells": [
  {
   "cell_type": "markdown",
   "metadata": {},
   "source": [
    "# Automate monthly data analysis and combine in excel charts"
   ]
  },
  {
   "cell_type": "markdown",
   "metadata": {},
   "source": [
    "A notebook that guides you through loading data in Python, analyzing the statistics, creating a master excel workbook with multiple sheets, and adding charts. This can be used to update monthly or quarterly data to a trendline"
   ]
  },
  {
   "cell_type": "code",
   "execution_count": null,
   "metadata": {},
   "outputs": [],
   "source": [
    "#load your data\n",
    "import pandas as pd\n",
    "df1 = pd.read_excel('Sample_data.xlsx', sheet_name='data')"
   ]
  },
  {
   "cell_type": "markdown",
   "metadata": {},
   "source": [
    "# Variable 1"
   ]
  },
  {
   "cell_type": "markdown",
   "metadata": {},
   "source": [
    "Run counts and groupbys on data for current month"
   ]
  },
  {
   "cell_type": "code",
   "execution_count": null,
   "metadata": {},
   "outputs": [],
   "source": [
    "#segment out variables \n",
    "df2 = df1[(df1['A1'] == 1.0) | (df1['A1'] == 2.0)]\n",
    "print(df2['A1'].value_counts())\n",
    "gt_count = df2[(df2['A1'] == 1.0)]['ALLWT'].sum() #runs the variable by weighted variable\n",
    "print(gt_count)\n",
    "ngt_count = df2[(df2['A1'] == 2.0)]['ALLWT'].sum()\n",
    "print(ngt_count)\n",
    "total_1 = gt_count + ngt_count\n",
    "gt_percent = (gt_count / total_1)\n",
    "print(gt_percent)\n",
    "ngt_percent = (ngt_count / total_1)\n",
    "print(ngt_percent)\n",
    "A1 = pd.DataFrame(data=[gt_percent, ngt_percent], columns=['A1'], index=['Yes', 'No'])\n",
    "A1"
   ]
  },
  {
   "cell_type": "code",
   "execution_count": null,
   "metadata": {},
   "outputs": [],
   "source": [
    "df2 = df1[(df1['A2'] == 1.0) | (df1['A2'] == 2.0)]\n",
    "print(df2['A2'].value_counts())\n",
    "s_count = df2[(df2['A2'] == 1.0)]['ALLWT'].sum()\n",
    "print(s_count)\n",
    "m_count = df2[(df2['A2'] == 2.0)]['ALLWT'].sum()\n",
    "print(m_count)\n",
    "total_2 = s_count + m_count\n",
    "s_percent = (s_count / total_2)\n",
    "print(s_percent)\n",
    "m_percent = (m_count / total_2)\n",
    "print(m_percent)\n",
    "A2 = pd.DataFrame(data=[s_percent, m_percent], columns=['A2'], index=['Always', 'Never'])\n",
    "A2"
   ]
  },
  {
   "cell_type": "code",
   "execution_count": null,
   "metadata": {},
   "outputs": [],
   "source": [
    "#run groupby of two variables\n",
    "df2 = df1[((df1['A2'] == 1.0) | (df1['A2'] == 2.0)) & ((df1['A1'] == 1.0) | (df1['A1'] == 2.0))]\n",
    "df2.groupby(['A2', 'A1'])['ALLWT'].sum()\n",
    "df3 = df2.groupby(['A2', 'A1'])['ALLWT'].sum()\n",
    "A2_A1 = df3.unstack()\n",
    "A2_A1.div(total_1)"
   ]
  },
  {
   "cell_type": "code",
   "execution_count": null,
   "metadata": {},
   "outputs": [],
   "source": [
    "df4 = A2_A1.div(total_1)\n",
    "df4 = df4.xs(1, axis=1, drop_level=True)\n",
    "df4.reset_index()"
   ]
  },
  {
   "cell_type": "markdown",
   "metadata": {},
   "source": [
    "Add new data to historical data from excel"
   ]
  },
  {
   "cell_type": "code",
   "execution_count": null,
   "metadata": {},
   "outputs": [],
   "source": [
    "import os \n",
    "import pandas as pd \n",
    "import csv \n",
    "import xlrd \n",
    "import numpy as np \n",
    "from pandas import ExcelWriter\n",
    "from pandas import ExcelFile\n",
    "\n",
    "#load historical data to combine on timeline\n",
    "df01 = pd.read_excel('Historical_data.xlsx', sheet_name='Sheet1')\n",
    "df01"
   ]
  },
  {
   "cell_type": "code",
   "execution_count": null,
   "metadata": {},
   "outputs": [],
   "source": [
    "#merge new data in a dataframe\n",
    "A1_add = pd.merge(df01, df4.reset_index(), how='outer',left_index=True, right_index=True, sort=False)\n",
    "A1_add.rename(columns={'A1': 1.0, 1: 2.0}, inplace=True)\n",
    "A1_add.drop([1.0], axis = 1, inplace = True)"
   ]
  },
  {
   "cell_type": "code",
   "execution_count": null,
   "metadata": {},
   "outputs": [],
   "source": [
    "A1_new = A1_add.round(2)\n",
    "A1_new.set_index('Quarter', inplace=True)\n",
    "A1_new"
   ]
  },
  {
   "cell_type": "code",
   "execution_count": 87,
   "metadata": {},
   "outputs": [],
   "source": [
    "A1_new.to_excel(\"A1.xlsx\", sheet_name=\"Sheet1\", index=True)"
   ]
  },
  {
   "cell_type": "markdown",
   "metadata": {},
   "source": [
    "Customize excel chart (if only one excel sheet, customize here; otherwise combine excels first then add charts)"
   ]
  },
  {
   "cell_type": "code",
   "execution_count": 88,
   "metadata": {},
   "outputs": [
    {
     "name": "stderr",
     "output_type": "stream",
     "text": [
      "/home/ariggs/myENV/lib/python3.5/site-packages/ipykernel_launcher.py:7: DeprecationWarning: Call to deprecated function get_sheet_by_name (Use wb[sheetname]).\n",
      "  import sys\n"
     ]
    }
   ],
   "source": [
    "import openpyxl\n",
    "from openpyxl import Workbook\n",
    "from openpyxl.styles import PatternFill, Border, Side, Alignment, Protection, Font\n",
    "from openpyxl.chart import (BarChart,Reference)\n",
    "from openpyxl.chart.label import DataLabelList\n",
    "workbook = openpyxl.load_workbook('A1.xlsx')\n",
    "sheet = workbook.get_sheet_by_name('Sheet1')\n",
    "\n",
    "for meta_cell in sheet['B2:N4']:\n",
    "    for cell in meta_cell:\n",
    "      cell.number_format = '0%'\n",
    "\n",
    "values = Reference(sheet, min_col = 1, min_row = 2, max_col = 14, max_row = 3) \n",
    "x = Reference(sheet, min_col=2, min_row=1, max_col=14)\n",
    "\n",
    "chart = BarChart()\n",
    "chart.type = \"col\"\n",
    "chart.grouping = \"stacked\"\n",
    "chart.overlap = 100\n",
    "chart.add_data(values, titles_from_data=True, from_rows=True)\n",
    "chart.title = \"chart title\"\n",
    "chart.set_categories(x)\n",
    "chart.dataLabels = DataLabelList() \n",
    "chart.dataLabels.showVal = True\n",
    "chart.legend.position = 'b'\n",
    "chart.height = 15 # default is 7.5\n",
    "chart.width = 25 # default is 15\n",
    "sheet.add_chart(chart, \"B5\")\n",
    "workbook.save(\"Sheet1.xlsx\")"
   ]
  },
  {
   "cell_type": "markdown",
   "metadata": {},
   "source": [
    "# Variable 2"
   ]
  },
  {
   "cell_type": "markdown",
   "metadata": {},
   "source": [
    "Analyze a second variable and save into another excel sheet. At end, we combine two excel sheets into one workwork."
   ]
  },
  {
   "cell_type": "code",
   "execution_count": null,
   "metadata": {},
   "outputs": [],
   "source": [
    "df2 = df1[(df1['B1'] == 1.0) | (df1['B1'] == 2.0)]\n",
    "print(df2['B1'].value_counts())\n",
    "gt_count = df2[(df2['B1'] == 1.0)]['ALLWT'].sum()\n",
    "print(gt_count)\n",
    "ngt_count = df2[(df2['B1'] == 2.0)]['ALLWT'].sum()\n",
    "print(ngt_count)\n",
    "total_1 = gt_count + ngt_count\n",
    "gt_percent = (gt_count / total_1) \n",
    "print(gt_percent)\n",
    "ngt_percent = (ngt_count / total_1)\n",
    "print(ngt_percent)\n",
    "B1 = pd.DataFrame(data=[gt_percent, ngt_percent], columns=['B1'], index=['10', '100'])\n",
    "B1"
   ]
  },
  {
   "cell_type": "code",
   "execution_count": null,
   "metadata": {},
   "outputs": [],
   "source": [
    "df2 = df1[(df1['B2'] == 1.0) | (df1['B2'] == 2.0)]\n",
    "print(df2['B2'].value_counts())\n",
    "s_count = df2[(df2['B2'] == 1.0)]['ALLWT'].sum()\n",
    "print(s_count)\n",
    "m_count = df2[(df2['B2'] == 2.0)]['ALLWT'].sum()\n",
    "print(m_count)\n",
    "total_2 = s_count + m_count\n",
    "s_percent = (s_count / total_2)\n",
    "print(s_percent)\n",
    "m_percent = (m_count / total_2)\n",
    "print(m_percent)\n",
    "B2 = pd.DataFrame(data=[s_percent, m_percent], columns=['B2'], index=['>=50', '<50'])\n",
    "B2"
   ]
  },
  {
   "cell_type": "code",
   "execution_count": null,
   "metadata": {},
   "outputs": [],
   "source": [
    "df2 = df1[((df1['B2'] == 1.0) | (df1['B2'] == 2.0)) & ((df1['B1'] == 1.0) | (df1['B1'] == 2.0))]\n",
    "df2.groupby(['B2', 'B1'])['ALLWT'].sum()\n",
    "df3 = df2.groupby(['B2', 'B1'])['ALLWT'].sum()\n",
    "B2_B1 = df3.unstack()\n",
    "B2_B1.div(total_1)"
   ]
  },
  {
   "cell_type": "code",
   "execution_count": null,
   "metadata": {},
   "outputs": [],
   "source": [
    "df4 = B2_B1.div(total_1)\n",
    "df4 = df4.xs(1, axis=1, drop_level=True)\n",
    "df4.reset_index()"
   ]
  },
  {
   "cell_type": "code",
   "execution_count": null,
   "metadata": {},
   "outputs": [],
   "source": [
    "df02 = pd.read_excel('Historical_data.xlsx', sheet_name='Sheet2')"
   ]
  },
  {
   "cell_type": "code",
   "execution_count": null,
   "metadata": {},
   "outputs": [],
   "source": [
    "B1_add = pd.merge(df02, df4.reset_index(), how='outer',left_index=True, right_index=True, sort=False)\n",
    "B1_add.rename(columns={'B1': 1.0, 1: '2.0'}, inplace=True)\n",
    "B1_add.drop([1.0], axis = 1, inplace = True)"
   ]
  },
  {
   "cell_type": "code",
   "execution_count": null,
   "metadata": {},
   "outputs": [],
   "source": [
    "B1_new = B1_add.round(2)\n",
    "B1_new.set_index('Quarter', inplace=True)\n",
    "B1_new"
   ]
  },
  {
   "cell_type": "code",
   "execution_count": null,
   "metadata": {},
   "outputs": [],
   "source": [
    "B1_new.to_excel(\"B1_new.xlsx\", sheet_name=\"Sheet1\", index=True)"
   ]
  },
  {
   "cell_type": "markdown",
   "metadata": {},
   "source": [
    "# Combine two excel sheets into one workbook"
   ]
  },
  {
   "cell_type": "code",
   "execution_count": null,
   "metadata": {},
   "outputs": [],
   "source": [
    "#load your first variable as an excel\n",
    "df1 = pd.read_excel('A1.xlsx')"
   ]
  },
  {
   "cell_type": "code",
   "execution_count": null,
   "metadata": {},
   "outputs": [],
   "source": [
    "#open your master excel, write variable to a sheet, then save combined files\n",
    "import openpyxl\n",
    "from openpyxl import load_workbook\n",
    "workbook = load_workbook('Master_file.xlsx')\n",
    "writer = pd.ExcelWriter(workbook, engine = 'openpyxl')\n",
    "writer.book = workbook\n",
    "df1.to_excel(writer, sheet_name = 'Sheet1')\n",
    "workbook.save('Master_file_updated_Q2.xlsx')"
   ]
  },
  {
   "cell_type": "code",
   "execution_count": null,
   "metadata": {},
   "outputs": [],
   "source": [
    "#customize charts after combined in excel workbook\n",
    "import openpyxl\n",
    "from openpyxl import Workbook\n",
    "from openpyxl.styles import PatternFill, Border, Side, Alignment, Protection, Font\n",
    "from openpyxl.chart import (BarChart,Reference)\n",
    "from openpyxl.chart.label import DataLabelList\n",
    "workbook = openpyxl.load_workbook('Master_file_updated_Q2.xlsx')\n",
    "sheet = workbook.get_sheet_by_name('Sheet1')\n",
    "\n",
    "#chart formatting is an example\n",
    "for meta_cell in sheet['B2:N4']:\n",
    "    for cell in meta_cell:\n",
    "        cell.number_format = '0%'\n",
    "\n",
    "values = Reference(sheet, min_col = 1, min_row = 2, max_col = 14, max_row = 3) \n",
    "x = Reference(sheet, min_col=2, min_row=1, max_col=14)\n",
    "\n",
    "chart = BarChart()\n",
    "chart.type = \"col\"\n",
    "chart.grouping = \"stacked\"\n",
    "chart.overlap = 100\n",
    "chart.add_data(values, titles_from_data=True, from_rows=True)\n",
    "chart.title = \"chart title\"\n",
    "chart.set_categories(x)\n",
    "chart.dataLabels = DataLabelList() \n",
    "chart.dataLabels.showVal = True\n",
    "chart.legend.position = 'b'\n",
    "chart.height = 15 # default is 7.5\n",
    "chart.width = 25 # default is 15\n",
    "sheet.add_chart(chart, \"B5\")\n",
    "workbook.save(\"Master_file_updated_Q2.xlsx\")"
   ]
  },
  {
   "cell_type": "code",
   "execution_count": null,
   "metadata": {},
   "outputs": [],
   "source": [
    "#load the second variable\n",
    "df2 = pd.read_excel('B1.xlsx')"
   ]
  },
  {
   "cell_type": "code",
   "execution_count": null,
   "metadata": {},
   "outputs": [],
   "source": [
    "#add second variable back to excel\n",
    "import openpyxl\n",
    "from openpyxl import load_workbook\n",
    "workbook = load_workbook('Master_file.xlsx')\n",
    "writer = pd.ExcelWriter(workbook, engine = 'openpyxl')\n",
    "writer.book = workbook\n",
    "df2.to_excel(writer, sheet_name = 'Sheet2')\n",
    "workbook.save('Master_file_updated_Q2.xlsx')"
   ]
  },
  {
   "cell_type": "markdown",
   "metadata": {},
   "source": [
    "Now the Master_file_updated_Q2 excel has two sheets and a cutomized chart."
   ]
  }
 ],
 "metadata": {
  "kernelspec": {
   "display_name": "Python (myENV)",
   "language": "python",
   "name": "myenv"
  },
  "language_info": {
   "codemirror_mode": {
    "name": "ipython",
    "version": 3
   },
   "file_extension": ".py",
   "mimetype": "text/x-python",
   "name": "python",
   "nbconvert_exporter": "python",
   "pygments_lexer": "ipython3",
   "version": "3.5.2"
  }
 },
 "nbformat": 4,
 "nbformat_minor": 2
}
